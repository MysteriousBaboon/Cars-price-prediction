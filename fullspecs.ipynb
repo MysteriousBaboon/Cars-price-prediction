{
  "nbformat": 4,
  "nbformat_minor": 0,
  "metadata": {
    "colab": {
      "name": "fullspecs.ipynb",
      "provenance": []
    },
    "kernelspec": {
      "name": "python3",
      "display_name": "Python 3"
    }
  },
  "cells": [
    {
      "cell_type": "code",
      "metadata": {
        "id": "xp6dtvJDWqLK"
      },
      "source": [
        "from google.colab import drive, files\r\n",
        "import pandas as pd\r\n",
        "import numpy as np\r\n",
        "from sklearn.model_selection import train_test_split, GridSearchCV, KFold\r\n",
        "from sklearn.model_selection import cross_val_score\r\n",
        "\r\n",
        "from sklearn import metrics \r\n",
        "\r\n",
        "\r\n",
        "try:\r\n",
        "  url = 'https://drive.google.com/file/d/1CoTEepAbFPR1c1V4xkaYKZB4l85teqQk/view?usp=sharing'\r\n",
        "  path = 'https://drive.google.com/uc?export=download&id='+url.split('/')[-2]\r\n",
        "  initial_df = pd.read_csv(path, low_memory=False, index_col=0, header=None).T\r\n",
        "except:\r\n",
        "  uploaded = files.upload()\r\n",
        "  initial_df = pd.read_csv(\"fullspecs.csv\" ,low_memory=False, index_col=0, header=None).T\r\n"
      ],
      "execution_count": null,
      "outputs": []
    },
    {
      "cell_type": "markdown",
      "metadata": {
        "id": "UBpsLzQYOdRF"
      },
      "source": [
        "#**Cleaning**"
      ]
    },
    {
      "cell_type": "code",
      "metadata": {
        "id": "5SQL0z5aXHIO"
      },
      "source": [
        "# Creation of a New DataFrame\r\n",
        "df = pd.DataFrame()\r\n",
        "# Price is the Manufacturer's Suggested Retail Price without $ and ,\r\n",
        "df['Price'] = initial_df['MSRP'].copy().replace(r'\\D+', '', regex=True)\r\n",
        "\r\n",
        "# Extraction of the Horsepower, and the Torque\r\n",
        "df['Horsepower'] = initial_df['SAE Net Horsepower @ RPM'].str.split('@').str[1]\r\n",
        "df['Torque']     = initial_df['SAE Net Torque @ RPM'].str.split('@').str[1]\r\n",
        "df['Horsepower'] = pd.to_numeric(df['Horsepower'], errors=\"coerce\")\r\n",
        "df['Torque']     = pd.to_numeric(df['Torque'], errors=\"coerce\")\r\n",
        "\r\n",
        "# Get Height in number\r\n",
        "df['Height']     = pd.to_numeric(initial_df['Height, Overall (in)'], errors=\"coerce\")\r\n",
        "\r\n",
        "# Get the Style (it's not used so it's useless)\r\n",
        "df['Style'] = initial_df['Style Name']\r\n",
        "\r\n",
        "# Get the name of every car by taking the values in the first row\r\n",
        "df['Model'] = initial_df.iloc[:,0]\r\n",
        "\r\n",
        "# One hot encoding for Body style\r\n",
        "df_enc=pd.get_dummies(initial_df[\"Body Style\"], prefix=\"Style\")\r\n",
        "df=pd.concat([df, df_enc], axis=1)\r\n",
        "df['Camera'] = initial_df['Back-Up Camera'].replace(['Yes','No'],[1,0])\r\n",
        "\r\n",
        "# BIG PROBLEM SOLVED\r\n",
        "# Horse power couldn't fit in my column so i dropped it and keeped only NA\r\n",
        "df = df[df['Horsepower'].notna() & df['Torque'].notna() & df['Price'].notna() & df['Height'].notna()]\r\n",
        "\r\n",
        "# Conversion of each data in the right type\r\n",
        "df['Price']              = df['Price'].astype(float)\r\n",
        "df['Height']             = df['Height'].astype(float)\r\n",
        "df['Passenger Capacity'] = initial_df['Passenger Capacity'].astype(int)\r\n",
        "df['Passenger Doors']    = initial_df['Passenger Doors'].astype(int)\r\n",
        "df['Horsepower']         = df['Horsepower'].astype(int)\r\n",
        "df['Torque']             = df['Torque'].astype(int)\r\n",
        "\r\n",
        "# Sort by price\r\n",
        "df.sort_values('Price', inplace=True)\r\n",
        "df.reset_index(inplace=True, drop=True)"
      ],
      "execution_count": null,
      "outputs": []
    },
    {
      "cell_type": "markdown",
      "metadata": {
        "id": "yduiL1poaCWz"
      },
      "source": [
        ""
      ]
    },
    {
      "cell_type": "markdown",
      "metadata": {
        "id": "vU2Sbt2xOTRk"
      },
      "source": [
        "#**Xgboost**"
      ]
    },
    {
      "cell_type": "markdown",
      "metadata": {
        "id": "LrHUkj9siShb"
      },
      "source": [
        "##First config"
      ]
    },
    {
      "cell_type": "code",
      "metadata": {
        "id": "mZoDz6nmCsxg"
      },
      "source": [
        "# Selected feature for training and target\r\n",
        "feature = ['Passenger Capacity', 'Passenger Doors','Horsepower','Torque','Camera', 'Height']\r\n",
        "X, y = df[feature], df['Price']\r\n",
        "\r\n",
        "# Split of our data\r\n",
        "X_train, X_test, y_train, y_test = train_test_split(X, y, test_size=0.33, random_state=42)"
      ],
      "execution_count": null,
      "outputs": []
    },
    {
      "cell_type": "code",
      "metadata": {
        "id": "k6ELxl9Oh0F-",
        "colab": {
          "base_uri": "https://localhost:8080/",
          "height": 1000
        },
        "outputId": "93856f0c-5488-45cf-87d8-9a4a17c90944"
      },
      "source": [
        "import xgboost as xgb\r\n",
        "\r\n",
        "# Parameters used for Grid Search\r\n",
        "param_grid =[{\r\n",
        "              'booster'      : ['gbtree', 'gblinear', 'dart'],\r\n",
        "              'objective'    : [\"reg:squarederror\"],\r\n",
        "              'n_estimators' : [10, 20],\r\n",
        "              'max_depth'    : [25, 30],\r\n",
        "              'learning_rate': [0.68, 0.69],\r\n",
        "              'gamma'        : [0.95, 1, 1.05]}]\r\n",
        "\r\n",
        "# Creation of our XGB/Grid Model\r\n",
        "rgr = GridSearchCV(xgb.XGBRegressor(), param_grid, refit=True, verbose=3)\r\n",
        "\r\n",
        "# Train It\r\n",
        "rgr.fit(X_train, y_train)\r\n",
        "# Predict the y (Price) of our cars\r\n",
        "y_pred = rgr.predict(X_test)\r\n",
        "\r\n",
        "# Calculate our metrics and print them\r\n",
        "rmse = np.sqrt(metrics.mean_squared_error(y_test, y_pred))\r\n",
        "mse = metrics.mean_squared_error(y_test, y_pred)\r\n",
        "\r\n",
        "print(rgr.best_params_)\r\n",
        "print(f\"mse = {mse}\")\r\n",
        "print(f\"rmse = {rmse}\")\r\n",
        "r2 = metrics.r2_score(y_test, y_pred)\r\n",
        "print(f\"r2 = {r2}\")"
      ],
      "execution_count": null,
      "outputs": [
        {
          "output_type": "stream",
          "text": [
            "Fitting 5 folds for each of 72 candidates, totalling 360 fits\n",
            "[CV] booster=gbtree, gamma=0.95, learning_rate=0.68, max_depth=25, n_estimators=10, objective=reg:squarederror \n"
          ],
          "name": "stdout"
        },
        {
          "output_type": "stream",
          "text": [
            "[Parallel(n_jobs=1)]: Using backend SequentialBackend with 1 concurrent workers.\n"
          ],
          "name": "stderr"
        },
        {
          "output_type": "stream",
          "text": [
            "[CV]  booster=gbtree, gamma=0.95, learning_rate=0.68, max_depth=25, n_estimators=10, objective=reg:squarederror, score=0.893, total=   0.7s\n",
            "[CV] booster=gbtree, gamma=0.95, learning_rate=0.68, max_depth=25, n_estimators=10, objective=reg:squarederror \n"
          ],
          "name": "stdout"
        },
        {
          "output_type": "stream",
          "text": [
            "[Parallel(n_jobs=1)]: Done   1 out of   1 | elapsed:    0.7s remaining:    0.0s\n"
          ],
          "name": "stderr"
        },
        {
          "output_type": "stream",
          "text": [
            "[CV]  booster=gbtree, gamma=0.95, learning_rate=0.68, max_depth=25, n_estimators=10, objective=reg:squarederror, score=0.906, total=   0.6s\n",
            "[CV] booster=gbtree, gamma=0.95, learning_rate=0.68, max_depth=25, n_estimators=10, objective=reg:squarederror \n"
          ],
          "name": "stdout"
        },
        {
          "output_type": "stream",
          "text": [
            "[Parallel(n_jobs=1)]: Done   2 out of   2 | elapsed:    1.3s remaining:    0.0s\n"
          ],
          "name": "stderr"
        },
        {
          "output_type": "stream",
          "text": [
            "[CV]  booster=gbtree, gamma=0.95, learning_rate=0.68, max_depth=25, n_estimators=10, objective=reg:squarederror, score=0.904, total=   0.6s\n",
            "[CV] booster=gbtree, gamma=0.95, learning_rate=0.68, max_depth=25, n_estimators=10, objective=reg:squarederror \n",
            "[CV]  booster=gbtree, gamma=0.95, learning_rate=0.68, max_depth=25, n_estimators=10, objective=reg:squarederror, score=0.933, total=   0.6s\n",
            "[CV] booster=gbtree, gamma=0.95, learning_rate=0.68, max_depth=25, n_estimators=10, objective=reg:squarederror \n",
            "[CV]  booster=gbtree, gamma=0.95, learning_rate=0.68, max_depth=25, n_estimators=10, objective=reg:squarederror, score=0.892, total=   0.6s\n",
            "[CV] booster=gbtree, gamma=0.95, learning_rate=0.68, max_depth=25, n_estimators=20, objective=reg:squarederror \n",
            "[CV]  booster=gbtree, gamma=0.95, learning_rate=0.68, max_depth=25, n_estimators=20, objective=reg:squarederror, score=0.892, total=   1.1s\n",
            "[CV] booster=gbtree, gamma=0.95, learning_rate=0.68, max_depth=25, n_estimators=20, objective=reg:squarederror \n",
            "[CV]  booster=gbtree, gamma=0.95, learning_rate=0.68, max_depth=25, n_estimators=20, objective=reg:squarederror, score=0.906, total=   1.2s\n",
            "[CV] booster=gbtree, gamma=0.95, learning_rate=0.68, max_depth=25, n_estimators=20, objective=reg:squarederror \n",
            "[CV]  booster=gbtree, gamma=0.95, learning_rate=0.68, max_depth=25, n_estimators=20, objective=reg:squarederror, score=0.904, total=   1.1s\n",
            "[CV] booster=gbtree, gamma=0.95, learning_rate=0.68, max_depth=25, n_estimators=20, objective=reg:squarederror \n",
            "[CV]  booster=gbtree, gamma=0.95, learning_rate=0.68, max_depth=25, n_estimators=20, objective=reg:squarederror, score=0.933, total=   1.2s\n",
            "[CV] booster=gbtree, gamma=0.95, learning_rate=0.68, max_depth=25, n_estimators=20, objective=reg:squarederror \n",
            "[CV]  booster=gbtree, gamma=0.95, learning_rate=0.68, max_depth=25, n_estimators=20, objective=reg:squarederror, score=0.892, total=   1.1s\n",
            "[CV] booster=gbtree, gamma=0.95, learning_rate=0.68, max_depth=30, n_estimators=10, objective=reg:squarederror \n",
            "[CV]  booster=gbtree, gamma=0.95, learning_rate=0.68, max_depth=30, n_estimators=10, objective=reg:squarederror, score=0.893, total=   0.6s\n",
            "[CV] booster=gbtree, gamma=0.95, learning_rate=0.68, max_depth=30, n_estimators=10, objective=reg:squarederror \n",
            "[CV]  booster=gbtree, gamma=0.95, learning_rate=0.68, max_depth=30, n_estimators=10, objective=reg:squarederror, score=0.906, total=   0.6s\n",
            "[CV] booster=gbtree, gamma=0.95, learning_rate=0.68, max_depth=30, n_estimators=10, objective=reg:squarederror \n",
            "[CV]  booster=gbtree, gamma=0.95, learning_rate=0.68, max_depth=30, n_estimators=10, objective=reg:squarederror, score=0.904, total=   0.6s\n",
            "[CV] booster=gbtree, gamma=0.95, learning_rate=0.68, max_depth=30, n_estimators=10, objective=reg:squarederror \n",
            "[CV]  booster=gbtree, gamma=0.95, learning_rate=0.68, max_depth=30, n_estimators=10, objective=reg:squarederror, score=0.933, total=   0.6s\n",
            "[CV] booster=gbtree, gamma=0.95, learning_rate=0.68, max_depth=30, n_estimators=10, objective=reg:squarederror \n",
            "[CV]  booster=gbtree, gamma=0.95, learning_rate=0.68, max_depth=30, n_estimators=10, objective=reg:squarederror, score=0.892, total=   0.6s\n",
            "[CV] booster=gbtree, gamma=0.95, learning_rate=0.68, max_depth=30, n_estimators=20, objective=reg:squarederror \n",
            "[CV]  booster=gbtree, gamma=0.95, learning_rate=0.68, max_depth=30, n_estimators=20, objective=reg:squarederror, score=0.892, total=   1.3s\n",
            "[CV] booster=gbtree, gamma=0.95, learning_rate=0.68, max_depth=30, n_estimators=20, objective=reg:squarederror \n",
            "[CV]  booster=gbtree, gamma=0.95, learning_rate=0.68, max_depth=30, n_estimators=20, objective=reg:squarederror, score=0.906, total=   1.3s\n",
            "[CV] booster=gbtree, gamma=0.95, learning_rate=0.68, max_depth=30, n_estimators=20, objective=reg:squarederror \n",
            "[CV]  booster=gbtree, gamma=0.95, learning_rate=0.68, max_depth=30, n_estimators=20, objective=reg:squarederror, score=0.904, total=   1.3s\n",
            "[CV] booster=gbtree, gamma=0.95, learning_rate=0.68, max_depth=30, n_estimators=20, objective=reg:squarederror \n",
            "[CV]  booster=gbtree, gamma=0.95, learning_rate=0.68, max_depth=30, n_estimators=20, objective=reg:squarederror, score=0.933, total=   1.3s\n",
            "[CV] booster=gbtree, gamma=0.95, learning_rate=0.68, max_depth=30, n_estimators=20, objective=reg:squarederror \n",
            "[CV]  booster=gbtree, gamma=0.95, learning_rate=0.68, max_depth=30, n_estimators=20, objective=reg:squarederror, score=0.893, total=   1.3s\n",
            "[CV] booster=gbtree, gamma=0.95, learning_rate=0.69, max_depth=25, n_estimators=10, objective=reg:squarederror \n",
            "[CV]  booster=gbtree, gamma=0.95, learning_rate=0.69, max_depth=25, n_estimators=10, objective=reg:squarederror, score=0.891, total=   0.6s\n",
            "[CV] booster=gbtree, gamma=0.95, learning_rate=0.69, max_depth=25, n_estimators=10, objective=reg:squarederror \n",
            "[CV]  booster=gbtree, gamma=0.95, learning_rate=0.69, max_depth=25, n_estimators=10, objective=reg:squarederror, score=0.888, total=   0.6s\n",
            "[CV] booster=gbtree, gamma=0.95, learning_rate=0.69, max_depth=25, n_estimators=10, objective=reg:squarederror \n",
            "[CV]  booster=gbtree, gamma=0.95, learning_rate=0.69, max_depth=25, n_estimators=10, objective=reg:squarederror, score=0.895, total=   0.6s\n",
            "[CV] booster=gbtree, gamma=0.95, learning_rate=0.69, max_depth=25, n_estimators=10, objective=reg:squarederror \n",
            "[CV]  booster=gbtree, gamma=0.95, learning_rate=0.69, max_depth=25, n_estimators=10, objective=reg:squarederror, score=0.932, total=   0.6s\n",
            "[CV] booster=gbtree, gamma=0.95, learning_rate=0.69, max_depth=25, n_estimators=10, objective=reg:squarederror \n",
            "[CV]  booster=gbtree, gamma=0.95, learning_rate=0.69, max_depth=25, n_estimators=10, objective=reg:squarederror, score=0.895, total=   0.6s\n",
            "[CV] booster=gbtree, gamma=0.95, learning_rate=0.69, max_depth=25, n_estimators=20, objective=reg:squarederror \n",
            "[CV]  booster=gbtree, gamma=0.95, learning_rate=0.69, max_depth=25, n_estimators=20, objective=reg:squarederror, score=0.891, total=   1.1s\n",
            "[CV] booster=gbtree, gamma=0.95, learning_rate=0.69, max_depth=25, n_estimators=20, objective=reg:squarederror \n",
            "[CV]  booster=gbtree, gamma=0.95, learning_rate=0.69, max_depth=25, n_estimators=20, objective=reg:squarederror, score=0.888, total=   1.2s\n",
            "[CV] booster=gbtree, gamma=0.95, learning_rate=0.69, max_depth=25, n_estimators=20, objective=reg:squarederror \n",
            "[CV]  booster=gbtree, gamma=0.95, learning_rate=0.69, max_depth=25, n_estimators=20, objective=reg:squarederror, score=0.896, total=   1.1s\n",
            "[CV] booster=gbtree, gamma=0.95, learning_rate=0.69, max_depth=25, n_estimators=20, objective=reg:squarederror \n",
            "[CV]  booster=gbtree, gamma=0.95, learning_rate=0.69, max_depth=25, n_estimators=20, objective=reg:squarederror, score=0.932, total=   1.2s\n",
            "[CV] booster=gbtree, gamma=0.95, learning_rate=0.69, max_depth=25, n_estimators=20, objective=reg:squarederror \n",
            "[CV]  booster=gbtree, gamma=0.95, learning_rate=0.69, max_depth=25, n_estimators=20, objective=reg:squarederror, score=0.895, total=   1.1s\n",
            "[CV] booster=gbtree, gamma=0.95, learning_rate=0.69, max_depth=30, n_estimators=10, objective=reg:squarederror \n",
            "[CV]  booster=gbtree, gamma=0.95, learning_rate=0.69, max_depth=30, n_estimators=10, objective=reg:squarederror, score=0.889, total=   0.6s\n",
            "[CV] booster=gbtree, gamma=0.95, learning_rate=0.69, max_depth=30, n_estimators=10, objective=reg:squarederror \n",
            "[CV]  booster=gbtree, gamma=0.95, learning_rate=0.69, max_depth=30, n_estimators=10, objective=reg:squarederror, score=0.888, total=   0.6s\n",
            "[CV] booster=gbtree, gamma=0.95, learning_rate=0.69, max_depth=30, n_estimators=10, objective=reg:squarederror \n",
            "[CV]  booster=gbtree, gamma=0.95, learning_rate=0.69, max_depth=30, n_estimators=10, objective=reg:squarederror, score=0.895, total=   0.6s\n",
            "[CV] booster=gbtree, gamma=0.95, learning_rate=0.69, max_depth=30, n_estimators=10, objective=reg:squarederror \n",
            "[CV]  booster=gbtree, gamma=0.95, learning_rate=0.69, max_depth=30, n_estimators=10, objective=reg:squarederror, score=0.932, total=   0.6s\n",
            "[CV] booster=gbtree, gamma=0.95, learning_rate=0.69, max_depth=30, n_estimators=10, objective=reg:squarederror \n",
            "[CV]  booster=gbtree, gamma=0.95, learning_rate=0.69, max_depth=30, n_estimators=10, objective=reg:squarederror, score=0.894, total=   0.6s\n",
            "[CV] booster=gbtree, gamma=0.95, learning_rate=0.69, max_depth=30, n_estimators=20, objective=reg:squarederror \n",
            "[CV]  booster=gbtree, gamma=0.95, learning_rate=0.69, max_depth=30, n_estimators=20, objective=reg:squarederror, score=0.889, total=   1.3s\n",
            "[CV] booster=gbtree, gamma=0.95, learning_rate=0.69, max_depth=30, n_estimators=20, objective=reg:squarederror \n",
            "[CV]  booster=gbtree, gamma=0.95, learning_rate=0.69, max_depth=30, n_estimators=20, objective=reg:squarederror, score=0.888, total=   1.3s\n",
            "[CV] booster=gbtree, gamma=0.95, learning_rate=0.69, max_depth=30, n_estimators=20, objective=reg:squarederror \n",
            "[CV]  booster=gbtree, gamma=0.95, learning_rate=0.69, max_depth=30, n_estimators=20, objective=reg:squarederror, score=0.896, total=   1.3s\n",
            "[CV] booster=gbtree, gamma=0.95, learning_rate=0.69, max_depth=30, n_estimators=20, objective=reg:squarederror \n",
            "[CV]  booster=gbtree, gamma=0.95, learning_rate=0.69, max_depth=30, n_estimators=20, objective=reg:squarederror, score=0.932, total=   1.3s\n",
            "[CV] booster=gbtree, gamma=0.95, learning_rate=0.69, max_depth=30, n_estimators=20, objective=reg:squarederror \n",
            "[CV]  booster=gbtree, gamma=0.95, learning_rate=0.69, max_depth=30, n_estimators=20, objective=reg:squarederror, score=0.894, total=   1.3s\n",
            "[CV] booster=gbtree, gamma=1, learning_rate=0.68, max_depth=25, n_estimators=10, objective=reg:squarederror \n",
            "[CV]  booster=gbtree, gamma=1, learning_rate=0.68, max_depth=25, n_estimators=10, objective=reg:squarederror, score=0.893, total=   0.6s\n",
            "[CV] booster=gbtree, gamma=1, learning_rate=0.68, max_depth=25, n_estimators=10, objective=reg:squarederror \n",
            "[CV]  booster=gbtree, gamma=1, learning_rate=0.68, max_depth=25, n_estimators=10, objective=reg:squarederror, score=0.906, total=   0.6s\n",
            "[CV] booster=gbtree, gamma=1, learning_rate=0.68, max_depth=25, n_estimators=10, objective=reg:squarederror \n",
            "[CV]  booster=gbtree, gamma=1, learning_rate=0.68, max_depth=25, n_estimators=10, objective=reg:squarederror, score=0.904, total=   0.6s\n",
            "[CV] booster=gbtree, gamma=1, learning_rate=0.68, max_depth=25, n_estimators=10, objective=reg:squarederror \n",
            "[CV]  booster=gbtree, gamma=1, learning_rate=0.68, max_depth=25, n_estimators=10, objective=reg:squarederror, score=0.933, total=   0.6s\n",
            "[CV] booster=gbtree, gamma=1, learning_rate=0.68, max_depth=25, n_estimators=10, objective=reg:squarederror \n",
            "[CV]  booster=gbtree, gamma=1, learning_rate=0.68, max_depth=25, n_estimators=10, objective=reg:squarederror, score=0.892, total=   0.6s\n",
            "[CV] booster=gbtree, gamma=1, learning_rate=0.68, max_depth=25, n_estimators=20, objective=reg:squarederror \n",
            "[CV]  booster=gbtree, gamma=1, learning_rate=0.68, max_depth=25, n_estimators=20, objective=reg:squarederror, score=0.892, total=   1.2s\n",
            "[CV] booster=gbtree, gamma=1, learning_rate=0.68, max_depth=25, n_estimators=20, objective=reg:squarederror \n",
            "[CV]  booster=gbtree, gamma=1, learning_rate=0.68, max_depth=25, n_estimators=20, objective=reg:squarederror, score=0.906, total=   1.2s\n",
            "[CV] booster=gbtree, gamma=1, learning_rate=0.68, max_depth=25, n_estimators=20, objective=reg:squarederror \n",
            "[CV]  booster=gbtree, gamma=1, learning_rate=0.68, max_depth=25, n_estimators=20, objective=reg:squarederror, score=0.904, total=   1.1s\n",
            "[CV] booster=gbtree, gamma=1, learning_rate=0.68, max_depth=25, n_estimators=20, objective=reg:squarederror \n",
            "[CV]  booster=gbtree, gamma=1, learning_rate=0.68, max_depth=25, n_estimators=20, objective=reg:squarederror, score=0.933, total=   1.2s\n",
            "[CV] booster=gbtree, gamma=1, learning_rate=0.68, max_depth=25, n_estimators=20, objective=reg:squarederror \n",
            "[CV]  booster=gbtree, gamma=1, learning_rate=0.68, max_depth=25, n_estimators=20, objective=reg:squarederror, score=0.892, total=   1.1s\n",
            "[CV] booster=gbtree, gamma=1, learning_rate=0.68, max_depth=30, n_estimators=10, objective=reg:squarederror \n",
            "[CV]  booster=gbtree, gamma=1, learning_rate=0.68, max_depth=30, n_estimators=10, objective=reg:squarederror, score=0.893, total=   0.6s\n",
            "[CV] booster=gbtree, gamma=1, learning_rate=0.68, max_depth=30, n_estimators=10, objective=reg:squarederror \n",
            "[CV]  booster=gbtree, gamma=1, learning_rate=0.68, max_depth=30, n_estimators=10, objective=reg:squarederror, score=0.906, total=   0.6s\n",
            "[CV] booster=gbtree, gamma=1, learning_rate=0.68, max_depth=30, n_estimators=10, objective=reg:squarederror \n",
            "[CV]  booster=gbtree, gamma=1, learning_rate=0.68, max_depth=30, n_estimators=10, objective=reg:squarederror, score=0.904, total=   0.6s\n",
            "[CV] booster=gbtree, gamma=1, learning_rate=0.68, max_depth=30, n_estimators=10, objective=reg:squarederror \n",
            "[CV]  booster=gbtree, gamma=1, learning_rate=0.68, max_depth=30, n_estimators=10, objective=reg:squarederror, score=0.933, total=   0.6s\n",
            "[CV] booster=gbtree, gamma=1, learning_rate=0.68, max_depth=30, n_estimators=10, objective=reg:squarederror \n",
            "[CV]  booster=gbtree, gamma=1, learning_rate=0.68, max_depth=30, n_estimators=10, objective=reg:squarederror, score=0.892, total=   0.6s\n",
            "[CV] booster=gbtree, gamma=1, learning_rate=0.68, max_depth=30, n_estimators=20, objective=reg:squarederror \n",
            "[CV]  booster=gbtree, gamma=1, learning_rate=0.68, max_depth=30, n_estimators=20, objective=reg:squarederror, score=0.892, total=   1.3s\n",
            "[CV] booster=gbtree, gamma=1, learning_rate=0.68, max_depth=30, n_estimators=20, objective=reg:squarederror \n",
            "[CV]  booster=gbtree, gamma=1, learning_rate=0.68, max_depth=30, n_estimators=20, objective=reg:squarederror, score=0.906, total=   1.3s\n",
            "[CV] booster=gbtree, gamma=1, learning_rate=0.68, max_depth=30, n_estimators=20, objective=reg:squarederror \n",
            "[CV]  booster=gbtree, gamma=1, learning_rate=0.68, max_depth=30, n_estimators=20, objective=reg:squarederror, score=0.904, total=   1.3s\n",
            "[CV] booster=gbtree, gamma=1, learning_rate=0.68, max_depth=30, n_estimators=20, objective=reg:squarederror \n",
            "[CV]  booster=gbtree, gamma=1, learning_rate=0.68, max_depth=30, n_estimators=20, objective=reg:squarederror, score=0.933, total=   1.3s\n",
            "[CV] booster=gbtree, gamma=1, learning_rate=0.68, max_depth=30, n_estimators=20, objective=reg:squarederror \n",
            "[CV]  booster=gbtree, gamma=1, learning_rate=0.68, max_depth=30, n_estimators=20, objective=reg:squarederror, score=0.893, total=   1.3s\n",
            "[CV] booster=gbtree, gamma=1, learning_rate=0.69, max_depth=25, n_estimators=10, objective=reg:squarederror \n",
            "[CV]  booster=gbtree, gamma=1, learning_rate=0.69, max_depth=25, n_estimators=10, objective=reg:squarederror, score=0.891, total=   0.6s\n",
            "[CV] booster=gbtree, gamma=1, learning_rate=0.69, max_depth=25, n_estimators=10, objective=reg:squarederror \n",
            "[CV]  booster=gbtree, gamma=1, learning_rate=0.69, max_depth=25, n_estimators=10, objective=reg:squarederror, score=0.888, total=   0.6s\n",
            "[CV] booster=gbtree, gamma=1, learning_rate=0.69, max_depth=25, n_estimators=10, objective=reg:squarederror \n",
            "[CV]  booster=gbtree, gamma=1, learning_rate=0.69, max_depth=25, n_estimators=10, objective=reg:squarederror, score=0.895, total=   0.6s\n",
            "[CV] booster=gbtree, gamma=1, learning_rate=0.69, max_depth=25, n_estimators=10, objective=reg:squarederror \n",
            "[CV]  booster=gbtree, gamma=1, learning_rate=0.69, max_depth=25, n_estimators=10, objective=reg:squarederror, score=0.932, total=   0.6s\n",
            "[CV] booster=gbtree, gamma=1, learning_rate=0.69, max_depth=25, n_estimators=10, objective=reg:squarederror \n",
            "[CV]  booster=gbtree, gamma=1, learning_rate=0.69, max_depth=25, n_estimators=10, objective=reg:squarederror, score=0.895, total=   0.6s\n",
            "[CV] booster=gbtree, gamma=1, learning_rate=0.69, max_depth=25, n_estimators=20, objective=reg:squarederror \n",
            "[CV]  booster=gbtree, gamma=1, learning_rate=0.69, max_depth=25, n_estimators=20, objective=reg:squarederror, score=0.891, total=   1.2s\n",
            "[CV] booster=gbtree, gamma=1, learning_rate=0.69, max_depth=25, n_estimators=20, objective=reg:squarederror \n",
            "[CV]  booster=gbtree, gamma=1, learning_rate=0.69, max_depth=25, n_estimators=20, objective=reg:squarederror, score=0.888, total=   1.2s\n",
            "[CV] booster=gbtree, gamma=1, learning_rate=0.69, max_depth=25, n_estimators=20, objective=reg:squarederror \n",
            "[CV]  booster=gbtree, gamma=1, learning_rate=0.69, max_depth=25, n_estimators=20, objective=reg:squarederror, score=0.896, total=   1.1s\n",
            "[CV] booster=gbtree, gamma=1, learning_rate=0.69, max_depth=25, n_estimators=20, objective=reg:squarederror \n",
            "[CV]  booster=gbtree, gamma=1, learning_rate=0.69, max_depth=25, n_estimators=20, objective=reg:squarederror, score=0.932, total=   1.2s\n",
            "[CV] booster=gbtree, gamma=1, learning_rate=0.69, max_depth=25, n_estimators=20, objective=reg:squarederror \n",
            "[CV]  booster=gbtree, gamma=1, learning_rate=0.69, max_depth=25, n_estimators=20, objective=reg:squarederror, score=0.895, total=   1.1s\n",
            "[CV] booster=gbtree, gamma=1, learning_rate=0.69, max_depth=30, n_estimators=10, objective=reg:squarederror \n",
            "[CV]  booster=gbtree, gamma=1, learning_rate=0.69, max_depth=30, n_estimators=10, objective=reg:squarederror, score=0.889, total=   0.6s\n",
            "[CV] booster=gbtree, gamma=1, learning_rate=0.69, max_depth=30, n_estimators=10, objective=reg:squarederror \n",
            "[CV]  booster=gbtree, gamma=1, learning_rate=0.69, max_depth=30, n_estimators=10, objective=reg:squarederror, score=0.888, total=   0.6s\n",
            "[CV] booster=gbtree, gamma=1, learning_rate=0.69, max_depth=30, n_estimators=10, objective=reg:squarederror \n",
            "[CV]  booster=gbtree, gamma=1, learning_rate=0.69, max_depth=30, n_estimators=10, objective=reg:squarederror, score=0.895, total=   0.6s\n",
            "[CV] booster=gbtree, gamma=1, learning_rate=0.69, max_depth=30, n_estimators=10, objective=reg:squarederror \n",
            "[CV]  booster=gbtree, gamma=1, learning_rate=0.69, max_depth=30, n_estimators=10, objective=reg:squarederror, score=0.932, total=   0.6s\n",
            "[CV] booster=gbtree, gamma=1, learning_rate=0.69, max_depth=30, n_estimators=10, objective=reg:squarederror \n",
            "[CV]  booster=gbtree, gamma=1, learning_rate=0.69, max_depth=30, n_estimators=10, objective=reg:squarederror, score=0.894, total=   0.6s\n",
            "[CV] booster=gbtree, gamma=1, learning_rate=0.69, max_depth=30, n_estimators=20, objective=reg:squarederror \n",
            "[CV]  booster=gbtree, gamma=1, learning_rate=0.69, max_depth=30, n_estimators=20, objective=reg:squarederror, score=0.889, total=   1.3s\n",
            "[CV] booster=gbtree, gamma=1, learning_rate=0.69, max_depth=30, n_estimators=20, objective=reg:squarederror \n",
            "[CV]  booster=gbtree, gamma=1, learning_rate=0.69, max_depth=30, n_estimators=20, objective=reg:squarederror, score=0.888, total=   1.3s\n",
            "[CV] booster=gbtree, gamma=1, learning_rate=0.69, max_depth=30, n_estimators=20, objective=reg:squarederror \n"
          ],
          "name": "stdout"
        },
        {
          "output_type": "error",
          "ename": "KeyboardInterrupt",
          "evalue": "ignored",
          "traceback": [
            "\u001b[0;31m---------------------------------------------------------------------------\u001b[0m",
            "\u001b[0;31mKeyboardInterrupt\u001b[0m                         Traceback (most recent call last)",
            "\u001b[0;32m<ipython-input-4-e6121a7d5de3>\u001b[0m in \u001b[0;36m<module>\u001b[0;34m()\u001b[0m\n\u001b[1;32m     14\u001b[0m \u001b[0;34m\u001b[0m\u001b[0m\n\u001b[1;32m     15\u001b[0m \u001b[0;31m# Train It\u001b[0m\u001b[0;34m\u001b[0m\u001b[0;34m\u001b[0m\u001b[0;34m\u001b[0m\u001b[0m\n\u001b[0;32m---> 16\u001b[0;31m \u001b[0mrgr\u001b[0m\u001b[0;34m.\u001b[0m\u001b[0mfit\u001b[0m\u001b[0;34m(\u001b[0m\u001b[0mX_train\u001b[0m\u001b[0;34m,\u001b[0m \u001b[0my_train\u001b[0m\u001b[0;34m)\u001b[0m\u001b[0;34m\u001b[0m\u001b[0;34m\u001b[0m\u001b[0m\n\u001b[0m\u001b[1;32m     17\u001b[0m \u001b[0;31m# Predict the y (Price) of our cars\u001b[0m\u001b[0;34m\u001b[0m\u001b[0;34m\u001b[0m\u001b[0;34m\u001b[0m\u001b[0m\n\u001b[1;32m     18\u001b[0m \u001b[0my_pred\u001b[0m \u001b[0;34m=\u001b[0m \u001b[0mrgr\u001b[0m\u001b[0;34m.\u001b[0m\u001b[0mpredict\u001b[0m\u001b[0;34m(\u001b[0m\u001b[0mX_test\u001b[0m\u001b[0;34m)\u001b[0m\u001b[0;34m\u001b[0m\u001b[0;34m\u001b[0m\u001b[0m\n",
            "\u001b[0;32m/usr/local/lib/python3.7/dist-packages/sklearn/model_selection/_search.py\u001b[0m in \u001b[0;36mfit\u001b[0;34m(self, X, y, groups, **fit_params)\u001b[0m\n\u001b[1;32m    708\u001b[0m                 \u001b[0;32mreturn\u001b[0m \u001b[0mresults\u001b[0m\u001b[0;34m\u001b[0m\u001b[0;34m\u001b[0m\u001b[0m\n\u001b[1;32m    709\u001b[0m \u001b[0;34m\u001b[0m\u001b[0m\n\u001b[0;32m--> 710\u001b[0;31m             \u001b[0mself\u001b[0m\u001b[0;34m.\u001b[0m\u001b[0m_run_search\u001b[0m\u001b[0;34m(\u001b[0m\u001b[0mevaluate_candidates\u001b[0m\u001b[0;34m)\u001b[0m\u001b[0;34m\u001b[0m\u001b[0;34m\u001b[0m\u001b[0m\n\u001b[0m\u001b[1;32m    711\u001b[0m \u001b[0;34m\u001b[0m\u001b[0m\n\u001b[1;32m    712\u001b[0m         \u001b[0;31m# For multi-metric evaluation, store the best_index_, best_params_ and\u001b[0m\u001b[0;34m\u001b[0m\u001b[0;34m\u001b[0m\u001b[0;34m\u001b[0m\u001b[0m\n",
            "\u001b[0;32m/usr/local/lib/python3.7/dist-packages/sklearn/model_selection/_search.py\u001b[0m in \u001b[0;36m_run_search\u001b[0;34m(self, evaluate_candidates)\u001b[0m\n\u001b[1;32m   1149\u001b[0m     \u001b[0;32mdef\u001b[0m \u001b[0m_run_search\u001b[0m\u001b[0;34m(\u001b[0m\u001b[0mself\u001b[0m\u001b[0;34m,\u001b[0m \u001b[0mevaluate_candidates\u001b[0m\u001b[0;34m)\u001b[0m\u001b[0;34m:\u001b[0m\u001b[0;34m\u001b[0m\u001b[0;34m\u001b[0m\u001b[0m\n\u001b[1;32m   1150\u001b[0m         \u001b[0;34m\"\"\"Search all candidates in param_grid\"\"\"\u001b[0m\u001b[0;34m\u001b[0m\u001b[0;34m\u001b[0m\u001b[0m\n\u001b[0;32m-> 1151\u001b[0;31m         \u001b[0mevaluate_candidates\u001b[0m\u001b[0;34m(\u001b[0m\u001b[0mParameterGrid\u001b[0m\u001b[0;34m(\u001b[0m\u001b[0mself\u001b[0m\u001b[0;34m.\u001b[0m\u001b[0mparam_grid\u001b[0m\u001b[0;34m)\u001b[0m\u001b[0;34m)\u001b[0m\u001b[0;34m\u001b[0m\u001b[0;34m\u001b[0m\u001b[0m\n\u001b[0m\u001b[1;32m   1152\u001b[0m \u001b[0;34m\u001b[0m\u001b[0m\n\u001b[1;32m   1153\u001b[0m \u001b[0;34m\u001b[0m\u001b[0m\n",
            "\u001b[0;32m/usr/local/lib/python3.7/dist-packages/sklearn/model_selection/_search.py\u001b[0m in \u001b[0;36mevaluate_candidates\u001b[0;34m(candidate_params)\u001b[0m\n\u001b[1;32m    687\u001b[0m                                \u001b[0;32mfor\u001b[0m \u001b[0mparameters\u001b[0m\u001b[0;34m,\u001b[0m \u001b[0;34m(\u001b[0m\u001b[0mtrain\u001b[0m\u001b[0;34m,\u001b[0m \u001b[0mtest\u001b[0m\u001b[0;34m)\u001b[0m\u001b[0;34m\u001b[0m\u001b[0;34m\u001b[0m\u001b[0m\n\u001b[1;32m    688\u001b[0m                                in product(candidate_params,\n\u001b[0;32m--> 689\u001b[0;31m                                           cv.split(X, y, groups)))\n\u001b[0m\u001b[1;32m    690\u001b[0m \u001b[0;34m\u001b[0m\u001b[0m\n\u001b[1;32m    691\u001b[0m                 \u001b[0;32mif\u001b[0m \u001b[0mlen\u001b[0m\u001b[0;34m(\u001b[0m\u001b[0mout\u001b[0m\u001b[0;34m)\u001b[0m \u001b[0;34m<\u001b[0m \u001b[0;36m1\u001b[0m\u001b[0;34m:\u001b[0m\u001b[0;34m\u001b[0m\u001b[0;34m\u001b[0m\u001b[0m\n",
            "\u001b[0;32m/usr/local/lib/python3.7/dist-packages/joblib/parallel.py\u001b[0m in \u001b[0;36m__call__\u001b[0;34m(self, iterable)\u001b[0m\n\u001b[1;32m   1042\u001b[0m                 \u001b[0mself\u001b[0m\u001b[0;34m.\u001b[0m\u001b[0m_iterating\u001b[0m \u001b[0;34m=\u001b[0m \u001b[0mself\u001b[0m\u001b[0;34m.\u001b[0m\u001b[0m_original_iterator\u001b[0m \u001b[0;32mis\u001b[0m \u001b[0;32mnot\u001b[0m \u001b[0;32mNone\u001b[0m\u001b[0;34m\u001b[0m\u001b[0;34m\u001b[0m\u001b[0m\n\u001b[1;32m   1043\u001b[0m \u001b[0;34m\u001b[0m\u001b[0m\n\u001b[0;32m-> 1044\u001b[0;31m             \u001b[0;32mwhile\u001b[0m \u001b[0mself\u001b[0m\u001b[0;34m.\u001b[0m\u001b[0mdispatch_one_batch\u001b[0m\u001b[0;34m(\u001b[0m\u001b[0miterator\u001b[0m\u001b[0;34m)\u001b[0m\u001b[0;34m:\u001b[0m\u001b[0;34m\u001b[0m\u001b[0;34m\u001b[0m\u001b[0m\n\u001b[0m\u001b[1;32m   1045\u001b[0m                 \u001b[0;32mpass\u001b[0m\u001b[0;34m\u001b[0m\u001b[0;34m\u001b[0m\u001b[0m\n\u001b[1;32m   1046\u001b[0m \u001b[0;34m\u001b[0m\u001b[0m\n",
            "\u001b[0;32m/usr/local/lib/python3.7/dist-packages/joblib/parallel.py\u001b[0m in \u001b[0;36mdispatch_one_batch\u001b[0;34m(self, iterator)\u001b[0m\n\u001b[1;32m    857\u001b[0m                 \u001b[0;32mreturn\u001b[0m \u001b[0;32mFalse\u001b[0m\u001b[0;34m\u001b[0m\u001b[0;34m\u001b[0m\u001b[0m\n\u001b[1;32m    858\u001b[0m             \u001b[0;32melse\u001b[0m\u001b[0;34m:\u001b[0m\u001b[0;34m\u001b[0m\u001b[0;34m\u001b[0m\u001b[0m\n\u001b[0;32m--> 859\u001b[0;31m                 \u001b[0mself\u001b[0m\u001b[0;34m.\u001b[0m\u001b[0m_dispatch\u001b[0m\u001b[0;34m(\u001b[0m\u001b[0mtasks\u001b[0m\u001b[0;34m)\u001b[0m\u001b[0;34m\u001b[0m\u001b[0;34m\u001b[0m\u001b[0m\n\u001b[0m\u001b[1;32m    860\u001b[0m                 \u001b[0;32mreturn\u001b[0m \u001b[0;32mTrue\u001b[0m\u001b[0;34m\u001b[0m\u001b[0;34m\u001b[0m\u001b[0m\n\u001b[1;32m    861\u001b[0m \u001b[0;34m\u001b[0m\u001b[0m\n",
            "\u001b[0;32m/usr/local/lib/python3.7/dist-packages/joblib/parallel.py\u001b[0m in \u001b[0;36m_dispatch\u001b[0;34m(self, batch)\u001b[0m\n\u001b[1;32m    775\u001b[0m         \u001b[0;32mwith\u001b[0m \u001b[0mself\u001b[0m\u001b[0;34m.\u001b[0m\u001b[0m_lock\u001b[0m\u001b[0;34m:\u001b[0m\u001b[0;34m\u001b[0m\u001b[0;34m\u001b[0m\u001b[0m\n\u001b[1;32m    776\u001b[0m             \u001b[0mjob_idx\u001b[0m \u001b[0;34m=\u001b[0m \u001b[0mlen\u001b[0m\u001b[0;34m(\u001b[0m\u001b[0mself\u001b[0m\u001b[0;34m.\u001b[0m\u001b[0m_jobs\u001b[0m\u001b[0;34m)\u001b[0m\u001b[0;34m\u001b[0m\u001b[0;34m\u001b[0m\u001b[0m\n\u001b[0;32m--> 777\u001b[0;31m             \u001b[0mjob\u001b[0m \u001b[0;34m=\u001b[0m \u001b[0mself\u001b[0m\u001b[0;34m.\u001b[0m\u001b[0m_backend\u001b[0m\u001b[0;34m.\u001b[0m\u001b[0mapply_async\u001b[0m\u001b[0;34m(\u001b[0m\u001b[0mbatch\u001b[0m\u001b[0;34m,\u001b[0m \u001b[0mcallback\u001b[0m\u001b[0;34m=\u001b[0m\u001b[0mcb\u001b[0m\u001b[0;34m)\u001b[0m\u001b[0;34m\u001b[0m\u001b[0;34m\u001b[0m\u001b[0m\n\u001b[0m\u001b[1;32m    778\u001b[0m             \u001b[0;31m# A job can complete so quickly than its callback is\u001b[0m\u001b[0;34m\u001b[0m\u001b[0;34m\u001b[0m\u001b[0;34m\u001b[0m\u001b[0m\n\u001b[1;32m    779\u001b[0m             \u001b[0;31m# called before we get here, causing self._jobs to\u001b[0m\u001b[0;34m\u001b[0m\u001b[0;34m\u001b[0m\u001b[0;34m\u001b[0m\u001b[0m\n",
            "\u001b[0;32m/usr/local/lib/python3.7/dist-packages/joblib/_parallel_backends.py\u001b[0m in \u001b[0;36mapply_async\u001b[0;34m(self, func, callback)\u001b[0m\n\u001b[1;32m    206\u001b[0m     \u001b[0;32mdef\u001b[0m \u001b[0mapply_async\u001b[0m\u001b[0;34m(\u001b[0m\u001b[0mself\u001b[0m\u001b[0;34m,\u001b[0m \u001b[0mfunc\u001b[0m\u001b[0;34m,\u001b[0m \u001b[0mcallback\u001b[0m\u001b[0;34m=\u001b[0m\u001b[0;32mNone\u001b[0m\u001b[0;34m)\u001b[0m\u001b[0;34m:\u001b[0m\u001b[0;34m\u001b[0m\u001b[0;34m\u001b[0m\u001b[0m\n\u001b[1;32m    207\u001b[0m         \u001b[0;34m\"\"\"Schedule a func to be run\"\"\"\u001b[0m\u001b[0;34m\u001b[0m\u001b[0;34m\u001b[0m\u001b[0m\n\u001b[0;32m--> 208\u001b[0;31m         \u001b[0mresult\u001b[0m \u001b[0;34m=\u001b[0m \u001b[0mImmediateResult\u001b[0m\u001b[0;34m(\u001b[0m\u001b[0mfunc\u001b[0m\u001b[0;34m)\u001b[0m\u001b[0;34m\u001b[0m\u001b[0;34m\u001b[0m\u001b[0m\n\u001b[0m\u001b[1;32m    209\u001b[0m         \u001b[0;32mif\u001b[0m \u001b[0mcallback\u001b[0m\u001b[0;34m:\u001b[0m\u001b[0;34m\u001b[0m\u001b[0;34m\u001b[0m\u001b[0m\n\u001b[1;32m    210\u001b[0m             \u001b[0mcallback\u001b[0m\u001b[0;34m(\u001b[0m\u001b[0mresult\u001b[0m\u001b[0;34m)\u001b[0m\u001b[0;34m\u001b[0m\u001b[0;34m\u001b[0m\u001b[0m\n",
            "\u001b[0;32m/usr/local/lib/python3.7/dist-packages/joblib/_parallel_backends.py\u001b[0m in \u001b[0;36m__init__\u001b[0;34m(self, batch)\u001b[0m\n\u001b[1;32m    570\u001b[0m         \u001b[0;31m# Don't delay the application, to avoid keeping the input\u001b[0m\u001b[0;34m\u001b[0m\u001b[0;34m\u001b[0m\u001b[0;34m\u001b[0m\u001b[0m\n\u001b[1;32m    571\u001b[0m         \u001b[0;31m# arguments in memory\u001b[0m\u001b[0;34m\u001b[0m\u001b[0;34m\u001b[0m\u001b[0;34m\u001b[0m\u001b[0m\n\u001b[0;32m--> 572\u001b[0;31m         \u001b[0mself\u001b[0m\u001b[0;34m.\u001b[0m\u001b[0mresults\u001b[0m \u001b[0;34m=\u001b[0m \u001b[0mbatch\u001b[0m\u001b[0;34m(\u001b[0m\u001b[0;34m)\u001b[0m\u001b[0;34m\u001b[0m\u001b[0;34m\u001b[0m\u001b[0m\n\u001b[0m\u001b[1;32m    573\u001b[0m \u001b[0;34m\u001b[0m\u001b[0m\n\u001b[1;32m    574\u001b[0m     \u001b[0;32mdef\u001b[0m \u001b[0mget\u001b[0m\u001b[0;34m(\u001b[0m\u001b[0mself\u001b[0m\u001b[0;34m)\u001b[0m\u001b[0;34m:\u001b[0m\u001b[0;34m\u001b[0m\u001b[0;34m\u001b[0m\u001b[0m\n",
            "\u001b[0;32m/usr/local/lib/python3.7/dist-packages/joblib/parallel.py\u001b[0m in \u001b[0;36m__call__\u001b[0;34m(self)\u001b[0m\n\u001b[1;32m    261\u001b[0m         \u001b[0;32mwith\u001b[0m \u001b[0mparallel_backend\u001b[0m\u001b[0;34m(\u001b[0m\u001b[0mself\u001b[0m\u001b[0;34m.\u001b[0m\u001b[0m_backend\u001b[0m\u001b[0;34m,\u001b[0m \u001b[0mn_jobs\u001b[0m\u001b[0;34m=\u001b[0m\u001b[0mself\u001b[0m\u001b[0;34m.\u001b[0m\u001b[0m_n_jobs\u001b[0m\u001b[0;34m)\u001b[0m\u001b[0;34m:\u001b[0m\u001b[0;34m\u001b[0m\u001b[0;34m\u001b[0m\u001b[0m\n\u001b[1;32m    262\u001b[0m             return [func(*args, **kwargs)\n\u001b[0;32m--> 263\u001b[0;31m                     for func, args, kwargs in self.items]\n\u001b[0m\u001b[1;32m    264\u001b[0m \u001b[0;34m\u001b[0m\u001b[0m\n\u001b[1;32m    265\u001b[0m     \u001b[0;32mdef\u001b[0m \u001b[0m__reduce__\u001b[0m\u001b[0;34m(\u001b[0m\u001b[0mself\u001b[0m\u001b[0;34m)\u001b[0m\u001b[0;34m:\u001b[0m\u001b[0;34m\u001b[0m\u001b[0;34m\u001b[0m\u001b[0m\n",
            "\u001b[0;32m/usr/local/lib/python3.7/dist-packages/joblib/parallel.py\u001b[0m in \u001b[0;36m<listcomp>\u001b[0;34m(.0)\u001b[0m\n\u001b[1;32m    261\u001b[0m         \u001b[0;32mwith\u001b[0m \u001b[0mparallel_backend\u001b[0m\u001b[0;34m(\u001b[0m\u001b[0mself\u001b[0m\u001b[0;34m.\u001b[0m\u001b[0m_backend\u001b[0m\u001b[0;34m,\u001b[0m \u001b[0mn_jobs\u001b[0m\u001b[0;34m=\u001b[0m\u001b[0mself\u001b[0m\u001b[0;34m.\u001b[0m\u001b[0m_n_jobs\u001b[0m\u001b[0;34m)\u001b[0m\u001b[0;34m:\u001b[0m\u001b[0;34m\u001b[0m\u001b[0;34m\u001b[0m\u001b[0m\n\u001b[1;32m    262\u001b[0m             return [func(*args, **kwargs)\n\u001b[0;32m--> 263\u001b[0;31m                     for func, args, kwargs in self.items]\n\u001b[0m\u001b[1;32m    264\u001b[0m \u001b[0;34m\u001b[0m\u001b[0m\n\u001b[1;32m    265\u001b[0m     \u001b[0;32mdef\u001b[0m \u001b[0m__reduce__\u001b[0m\u001b[0;34m(\u001b[0m\u001b[0mself\u001b[0m\u001b[0;34m)\u001b[0m\u001b[0;34m:\u001b[0m\u001b[0;34m\u001b[0m\u001b[0;34m\u001b[0m\u001b[0m\n",
            "\u001b[0;32m/usr/local/lib/python3.7/dist-packages/sklearn/model_selection/_validation.py\u001b[0m in \u001b[0;36m_fit_and_score\u001b[0;34m(estimator, X, y, scorer, train, test, verbose, parameters, fit_params, return_train_score, return_parameters, return_n_test_samples, return_times, return_estimator, error_score)\u001b[0m\n\u001b[1;32m    513\u001b[0m             \u001b[0mestimator\u001b[0m\u001b[0;34m.\u001b[0m\u001b[0mfit\u001b[0m\u001b[0;34m(\u001b[0m\u001b[0mX_train\u001b[0m\u001b[0;34m,\u001b[0m \u001b[0;34m**\u001b[0m\u001b[0mfit_params\u001b[0m\u001b[0;34m)\u001b[0m\u001b[0;34m\u001b[0m\u001b[0;34m\u001b[0m\u001b[0m\n\u001b[1;32m    514\u001b[0m         \u001b[0;32melse\u001b[0m\u001b[0;34m:\u001b[0m\u001b[0;34m\u001b[0m\u001b[0;34m\u001b[0m\u001b[0m\n\u001b[0;32m--> 515\u001b[0;31m             \u001b[0mestimator\u001b[0m\u001b[0;34m.\u001b[0m\u001b[0mfit\u001b[0m\u001b[0;34m(\u001b[0m\u001b[0mX_train\u001b[0m\u001b[0;34m,\u001b[0m \u001b[0my_train\u001b[0m\u001b[0;34m,\u001b[0m \u001b[0;34m**\u001b[0m\u001b[0mfit_params\u001b[0m\u001b[0;34m)\u001b[0m\u001b[0;34m\u001b[0m\u001b[0;34m\u001b[0m\u001b[0m\n\u001b[0m\u001b[1;32m    516\u001b[0m \u001b[0;34m\u001b[0m\u001b[0m\n\u001b[1;32m    517\u001b[0m     \u001b[0;32mexcept\u001b[0m \u001b[0mException\u001b[0m \u001b[0;32mas\u001b[0m \u001b[0me\u001b[0m\u001b[0;34m:\u001b[0m\u001b[0;34m\u001b[0m\u001b[0;34m\u001b[0m\u001b[0m\n",
            "\u001b[0;32m/usr/local/lib/python3.7/dist-packages/xgboost/sklearn.py\u001b[0m in \u001b[0;36mfit\u001b[0;34m(self, X, y, sample_weight, eval_set, eval_metric, early_stopping_rounds, verbose, xgb_model, sample_weight_eval_set, callbacks)\u001b[0m\n\u001b[1;32m    394\u001b[0m                               \u001b[0mevals_result\u001b[0m\u001b[0;34m=\u001b[0m\u001b[0mevals_result\u001b[0m\u001b[0;34m,\u001b[0m \u001b[0mobj\u001b[0m\u001b[0;34m=\u001b[0m\u001b[0mobj\u001b[0m\u001b[0;34m,\u001b[0m \u001b[0mfeval\u001b[0m\u001b[0;34m=\u001b[0m\u001b[0mfeval\u001b[0m\u001b[0;34m,\u001b[0m\u001b[0;34m\u001b[0m\u001b[0;34m\u001b[0m\u001b[0m\n\u001b[1;32m    395\u001b[0m                               \u001b[0mverbose_eval\u001b[0m\u001b[0;34m=\u001b[0m\u001b[0mverbose\u001b[0m\u001b[0;34m,\u001b[0m \u001b[0mxgb_model\u001b[0m\u001b[0;34m=\u001b[0m\u001b[0mxgb_model\u001b[0m\u001b[0;34m,\u001b[0m\u001b[0;34m\u001b[0m\u001b[0;34m\u001b[0m\u001b[0m\n\u001b[0;32m--> 396\u001b[0;31m                               callbacks=callbacks)\n\u001b[0m\u001b[1;32m    397\u001b[0m \u001b[0;34m\u001b[0m\u001b[0m\n\u001b[1;32m    398\u001b[0m         \u001b[0;32mif\u001b[0m \u001b[0mevals_result\u001b[0m\u001b[0;34m:\u001b[0m\u001b[0;34m\u001b[0m\u001b[0;34m\u001b[0m\u001b[0m\n",
            "\u001b[0;32m/usr/local/lib/python3.7/dist-packages/xgboost/training.py\u001b[0m in \u001b[0;36mtrain\u001b[0;34m(params, dtrain, num_boost_round, evals, obj, feval, maximize, early_stopping_rounds, evals_result, verbose_eval, xgb_model, callbacks, learning_rates)\u001b[0m\n\u001b[1;32m    214\u001b[0m                            \u001b[0mevals\u001b[0m\u001b[0;34m=\u001b[0m\u001b[0mevals\u001b[0m\u001b[0;34m,\u001b[0m\u001b[0;34m\u001b[0m\u001b[0;34m\u001b[0m\u001b[0m\n\u001b[1;32m    215\u001b[0m                            \u001b[0mobj\u001b[0m\u001b[0;34m=\u001b[0m\u001b[0mobj\u001b[0m\u001b[0;34m,\u001b[0m \u001b[0mfeval\u001b[0m\u001b[0;34m=\u001b[0m\u001b[0mfeval\u001b[0m\u001b[0;34m,\u001b[0m\u001b[0;34m\u001b[0m\u001b[0;34m\u001b[0m\u001b[0m\n\u001b[0;32m--> 216\u001b[0;31m                            xgb_model=xgb_model, callbacks=callbacks)\n\u001b[0m\u001b[1;32m    217\u001b[0m \u001b[0;34m\u001b[0m\u001b[0m\n\u001b[1;32m    218\u001b[0m \u001b[0;34m\u001b[0m\u001b[0m\n",
            "\u001b[0;32m/usr/local/lib/python3.7/dist-packages/xgboost/training.py\u001b[0m in \u001b[0;36m_train_internal\u001b[0;34m(params, dtrain, num_boost_round, evals, obj, feval, xgb_model, callbacks)\u001b[0m\n\u001b[1;32m     72\u001b[0m         \u001b[0;31m# Skip the first update if it is a recovery step.\u001b[0m\u001b[0;34m\u001b[0m\u001b[0;34m\u001b[0m\u001b[0;34m\u001b[0m\u001b[0m\n\u001b[1;32m     73\u001b[0m         \u001b[0;32mif\u001b[0m \u001b[0mversion\u001b[0m \u001b[0;34m%\u001b[0m \u001b[0;36m2\u001b[0m \u001b[0;34m==\u001b[0m \u001b[0;36m0\u001b[0m\u001b[0;34m:\u001b[0m\u001b[0;34m\u001b[0m\u001b[0;34m\u001b[0m\u001b[0m\n\u001b[0;32m---> 74\u001b[0;31m             \u001b[0mbst\u001b[0m\u001b[0;34m.\u001b[0m\u001b[0mupdate\u001b[0m\u001b[0;34m(\u001b[0m\u001b[0mdtrain\u001b[0m\u001b[0;34m,\u001b[0m \u001b[0mi\u001b[0m\u001b[0;34m,\u001b[0m \u001b[0mobj\u001b[0m\u001b[0;34m)\u001b[0m\u001b[0;34m\u001b[0m\u001b[0;34m\u001b[0m\u001b[0m\n\u001b[0m\u001b[1;32m     75\u001b[0m             \u001b[0mbst\u001b[0m\u001b[0;34m.\u001b[0m\u001b[0msave_rabit_checkpoint\u001b[0m\u001b[0;34m(\u001b[0m\u001b[0;34m)\u001b[0m\u001b[0;34m\u001b[0m\u001b[0;34m\u001b[0m\u001b[0m\n\u001b[1;32m     76\u001b[0m             \u001b[0mversion\u001b[0m \u001b[0;34m+=\u001b[0m \u001b[0;36m1\u001b[0m\u001b[0;34m\u001b[0m\u001b[0;34m\u001b[0m\u001b[0m\n",
            "\u001b[0;32m/usr/local/lib/python3.7/dist-packages/xgboost/core.py\u001b[0m in \u001b[0;36mupdate\u001b[0;34m(self, dtrain, iteration, fobj)\u001b[0m\n\u001b[1;32m   1107\u001b[0m         \u001b[0;32mif\u001b[0m \u001b[0mfobj\u001b[0m \u001b[0;32mis\u001b[0m \u001b[0;32mNone\u001b[0m\u001b[0;34m:\u001b[0m\u001b[0;34m\u001b[0m\u001b[0;34m\u001b[0m\u001b[0m\n\u001b[1;32m   1108\u001b[0m             _check_call(_LIB.XGBoosterUpdateOneIter(self.handle, ctypes.c_int(iteration),\n\u001b[0;32m-> 1109\u001b[0;31m                                                     dtrain.handle))\n\u001b[0m\u001b[1;32m   1110\u001b[0m         \u001b[0;32melse\u001b[0m\u001b[0;34m:\u001b[0m\u001b[0;34m\u001b[0m\u001b[0;34m\u001b[0m\u001b[0m\n\u001b[1;32m   1111\u001b[0m             \u001b[0mpred\u001b[0m \u001b[0;34m=\u001b[0m \u001b[0mself\u001b[0m\u001b[0;34m.\u001b[0m\u001b[0mpredict\u001b[0m\u001b[0;34m(\u001b[0m\u001b[0mdtrain\u001b[0m\u001b[0;34m)\u001b[0m\u001b[0;34m\u001b[0m\u001b[0;34m\u001b[0m\u001b[0m\n",
            "\u001b[0;31mKeyboardInterrupt\u001b[0m: "
          ]
        }
      ]
    },
    {
      "cell_type": "code",
      "metadata": {
        "colab": {
          "base_uri": "https://localhost:8080/",
          "height": 231
        },
        "id": "WFs6cd8ZZw2Y",
        "outputId": "de84d47d-a407-4220-c239-77732461a6d9"
      },
      "source": [
        "rgr.best_estimator_.fit(X_train, y_train)\r\n",
        "\r\n",
        "y_pred = rgr.best_estimator_.predict(X_test)\r\n",
        "\r\n",
        "\r\n",
        "rmse = np.sqrt(metrics.mean_squared_error(y_test, y_pred))\r\n",
        "mse = metrics.mean_squared_error(y_test, y_pred)\r\n",
        "print(rgr.best_params_)\r\n",
        "\r\n",
        "print(f\"mse = {mse}\")\r\n",
        "print(f\"rmse = {rmse}\")\r\n",
        "r2 = metrics.r2_score(y_test, y_pred)\r\n",
        "print(f\"r2 = {r2}\")"
      ],
      "execution_count": null,
      "outputs": [
        {
          "output_type": "error",
          "ename": "AttributeError",
          "evalue": "ignored",
          "traceback": [
            "\u001b[0;31m---------------------------------------------------------------------------\u001b[0m",
            "\u001b[0;31mAttributeError\u001b[0m                            Traceback (most recent call last)",
            "\u001b[0;32m<ipython-input-5-88a4b3c0f0f4>\u001b[0m in \u001b[0;36m<module>\u001b[0;34m()\u001b[0m\n\u001b[0;32m----> 1\u001b[0;31m \u001b[0mrgr\u001b[0m\u001b[0;34m.\u001b[0m\u001b[0mbest_estimator_\u001b[0m\u001b[0;34m.\u001b[0m\u001b[0mfit\u001b[0m\u001b[0;34m(\u001b[0m\u001b[0mX_train\u001b[0m\u001b[0;34m,\u001b[0m \u001b[0my_train\u001b[0m\u001b[0;34m)\u001b[0m\u001b[0;34m\u001b[0m\u001b[0;34m\u001b[0m\u001b[0m\n\u001b[0m\u001b[1;32m      2\u001b[0m \u001b[0;34m\u001b[0m\u001b[0m\n\u001b[1;32m      3\u001b[0m \u001b[0my_pred\u001b[0m \u001b[0;34m=\u001b[0m \u001b[0mrgr\u001b[0m\u001b[0;34m.\u001b[0m\u001b[0mbest_estimator_\u001b[0m\u001b[0;34m.\u001b[0m\u001b[0mpredict\u001b[0m\u001b[0;34m(\u001b[0m\u001b[0mX_test\u001b[0m\u001b[0;34m)\u001b[0m\u001b[0;34m\u001b[0m\u001b[0;34m\u001b[0m\u001b[0m\n\u001b[1;32m      4\u001b[0m \u001b[0;34m\u001b[0m\u001b[0m\n\u001b[1;32m      5\u001b[0m \u001b[0;34m\u001b[0m\u001b[0m\n",
            "\u001b[0;31mAttributeError\u001b[0m: 'GridSearchCV' object has no attribute 'best_estimator_'"
          ]
        }
      ]
    },
    {
      "cell_type": "markdown",
      "metadata": {
        "id": "t3ELgls2jeMm"
      },
      "source": [
        "##Second config"
      ]
    },
    {
      "cell_type": "code",
      "metadata": {
        "id": "0GakUYvAjeMu"
      },
      "source": [
        "# Selected feature for training and target\r\n",
        "feature = ['Passenger Capacity', 'Passenger Doors','Horsepower','Torque', 'Camera', 'Height' ] + list(df_enc)\r\n",
        "X, y = df[feature], df['Price']\r\n",
        "\r\n",
        "# Split of our data\r\n",
        "X_train, X_test, y_train, y_test = train_test_split(X, y, test_size=0.33, random_state=42)"
      ],
      "execution_count": null,
      "outputs": []
    },
    {
      "cell_type": "code",
      "metadata": {
        "id": "pIXKWbeLjeMv"
      },
      "source": [
        "import xgboost as xgb\r\n",
        "\r\n",
        "param_grid =[{\r\n",
        "'booster': ['gbtree','gblinear','dart'],\r\n",
        "'objective': [\"reg:squarederror\"],\r\n",
        "'n_estimators': [10, 20],\r\n",
        "'max_depth': [25, 30],\r\n",
        "'learning_rate':[0.68,0.69],\r\n",
        "'gamma':[0.95,1, 1.05]}]\r\n",
        "\r\n",
        "kfold = KFold(n_splits=5, random_state=0)\r\n",
        "\r\n",
        "clf = GridSearchCV(xgb.XGBRegressor(), param_grid, refit=True, verbose=3, cv=kfold)\r\n",
        "score = cross_val_score(clf, X, y, cv=kfold)\r\n",
        "clf.fit(X_train, y_train)\r\n",
        "y_pred = clf.predict(X_test)\r\n",
        "\r\n",
        "rmse = np.sqrt(metrics.mean_squared_error(y_test, y_pred))\r\n",
        "mse = metrics.mean_squared_error(y_test, y_pred)\r\n",
        "\r\n",
        "\r\n",
        "print(clf.best_params_)\r\n",
        "print(f\"mse = {mse}\")\r\n",
        "print(f\"rmse = {rmse}\")\r\n",
        "r2 = metrics.r2_score(y_test, y_pred)\r\n",
        "print(f\"r2 = {r2}\")\r\n",
        "print(score)"
      ],
      "execution_count": null,
      "outputs": []
    },
    {
      "cell_type": "markdown",
      "metadata": {
        "id": "pr22BJF5Pjmj"
      },
      "source": [
        "#**Decision Tree (Not the best for regression)**\r\n",
        "\r\n"
      ]
    },
    {
      "cell_type": "code",
      "metadata": {
        "id": "1fdv6B7qOtn0"
      },
      "source": [
        "# Selected feature for training and target\r\n",
        "feature = ['Passenger Capacity', 'Passenger Doors','Horsepower','Torque']\r\n",
        "X, y = df[feature], df['Price']\r\n",
        "\r\n",
        "# Split of our data\r\n",
        "X_train, X_test, y_train, y_test = train_test_split(X, y, test_size=0.33, random_state=42)"
      ],
      "execution_count": null,
      "outputs": []
    },
    {
      "cell_type": "markdown",
      "metadata": {
        "id": "Y2oX4MNWOWvR"
      },
      "source": [
        "## First config"
      ]
    },
    {
      "cell_type": "code",
      "metadata": {
        "id": "KBcx3e6nKr2P"
      },
      "source": [
        "from sklearn.tree import DecisionTreeClassifier\r\n",
        "\r\n",
        "param_grid =[{\r\n",
        "              'criterion': ['entropy', 'gini'],\r\n",
        "              'max_depth': [15, 18, 25, 30],\r\n",
        "              'max_leaf_nodes':[1100, 1200, 1300]}]\r\n",
        "              \r\n",
        "rgr = GridSearchCV(DecisionTreeClassifier(),param_grid,refit=True,verbose=3)\r\n",
        "\r\n",
        "rgr.fit(X_train, y_train)\r\n",
        "y_pred = rgr.predict(X_test)\r\n",
        "    \r\n",
        "\r\n",
        "#Predict the response for test dataset\r\n",
        "y_pred = rgr.predict(X_test)\r\n",
        "r2 = metrics.r2_score(y_test, y_pred)\r\n",
        "print(f\"r2 = {r2}\")"
      ],
      "execution_count": null,
      "outputs": []
    },
    {
      "cell_type": "code",
      "metadata": {
        "id": "KvBfPkwxNAzs"
      },
      "source": [
        "print(\"Accuracy est :\",metrics.accuracy_score(y_test, y_pred))\r\n",
        "print(\"precision est :\",metrics.precision_score(y_test, y_pred, average='micro'))\r\n",
        "print(\"recall est :\",metrics.recall_score(y_test, y_pred, average='micro'))"
      ],
      "execution_count": null,
      "outputs": []
    },
    {
      "cell_type": "markdown",
      "metadata": {
        "id": "4sRuq4Iqvy1Z"
      },
      "source": [
        "##Second config"
      ]
    },
    {
      "cell_type": "code",
      "metadata": {
        "id": "VSyG4ULwvy1d"
      },
      "source": [
        "# Selected feature for training and target\r\n",
        "feature = ['Passenger Capacity', 'Passenger Doors','Horsepower','Torque'] + list(df_enc)\r\n",
        "X, y = df[feature], df['Price']\r\n",
        "\r\n",
        "# Split of our data\r\n",
        "X_train, X_test, y_train, y_test = train_test_split(X, y, test_size=0.33, random_state=42)"
      ],
      "execution_count": null,
      "outputs": []
    },
    {
      "cell_type": "code",
      "metadata": {
        "id": "ZgMDfuDKxzbL"
      },
      "source": [
        "param_grid =[{\r\n",
        "              'criterion': ['entropy', 'gini'],\r\n",
        "              'max_depth': [10, 18, 30, 50],\r\n",
        "              'max_leaf_nodes':[800, 1200, 2000, 2300]}]\r\n",
        "              \r\n",
        "\r\n",
        "rgr = GridSearchCV(DecisionTreeClassifier(),param_grid,refit=True,verbose=3)\r\n",
        "# Train Decision Tree Classifer\r\n",
        "rgr = rgr.fit(X_train,y_train)\r\n",
        "\r\n",
        "#Predict the response for test dataset\r\n",
        "y_pred = rgr.predict(X_test)\r\n",
        "print(rgr.best_params_)"
      ],
      "execution_count": null,
      "outputs": []
    },
    {
      "cell_type": "code",
      "metadata": {
        "id": "T2LC7zNOM25X"
      },
      "source": [
        "print(\"Accuracy est :\",metrics.accuracy_score(y_test, y_pred))\r\n",
        "print(\"precision est :\",metrics.precision_score(y_test, y_pred, average='micro'))\r\n",
        "print(\"recall est :\",metrics.recall_score(y_test, y_pred, average='micro'))"
      ],
      "execution_count": null,
      "outputs": []
    },
    {
      "cell_type": "markdown",
      "metadata": {
        "id": "ooMwWt7zP-5c"
      },
      "source": [
        "#Perceptron"
      ]
    },
    {
      "cell_type": "code",
      "metadata": {
        "id": "WNeDfwLtKB6Q"
      },
      "source": [
        "from sklearn.datasets import load_digits\r\n",
        "from sklearn.linear_model import Perceptron\r\n",
        "\r\n",
        "rgr = Perceptron(tol=1e-3, random_state=0)\r\n",
        "rgr = rgr.fit(X_train,y_train)\r\n",
        "\r\n",
        "y_pred = rgr.predict(X_test)\r\n",
        "\r\n",
        "r2 = metrics.r2_score(y_test, y_pred)\r\n",
        "print(f\"r2 = {r2}\")"
      ],
      "execution_count": null,
      "outputs": []
    }
  ]
}